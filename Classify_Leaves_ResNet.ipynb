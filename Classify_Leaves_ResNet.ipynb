{
 "cells": [
  {
   "cell_type": "code",
   "execution_count": 1,
   "id": "128fad28",
   "metadata": {},
   "outputs": [],
   "source": [
    "import torch\n",
    "from torch import nn\n",
    "import pandas as pd\n",
    "import numpy as np\n",
    "from torch.utils.data import Dataset, DataLoader\n",
    "from torchvision import transforms, models\n",
    "from PIL import Image\n",
    "import os\n",
    "from matplotlib import pyplot as plt\n",
    "from tqdm import tqdm"
   ]
  },
  {
   "cell_type": "code",
   "execution_count": 2,
   "id": "6846bbf4",
   "metadata": {},
   "outputs": [
    {
     "data": {
      "text/html": [
       "<div>\n",
       "<style scoped>\n",
       "    .dataframe tbody tr th:only-of-type {\n",
       "        vertical-align: middle;\n",
       "    }\n",
       "\n",
       "    .dataframe tbody tr th {\n",
       "        vertical-align: top;\n",
       "    }\n",
       "\n",
       "    .dataframe thead th {\n",
       "        text-align: right;\n",
       "    }\n",
       "</style>\n",
       "<table border=\"1\" class=\"dataframe\">\n",
       "  <thead>\n",
       "    <tr style=\"text-align: right;\">\n",
       "      <th></th>\n",
       "      <th>image</th>\n",
       "      <th>label</th>\n",
       "    </tr>\n",
       "  </thead>\n",
       "  <tbody>\n",
       "    <tr>\n",
       "      <th>count</th>\n",
       "      <td>18353</td>\n",
       "      <td>18353</td>\n",
       "    </tr>\n",
       "    <tr>\n",
       "      <th>unique</th>\n",
       "      <td>18353</td>\n",
       "      <td>176</td>\n",
       "    </tr>\n",
       "    <tr>\n",
       "      <th>top</th>\n",
       "      <td>images/0.jpg</td>\n",
       "      <td>maclura_pomifera</td>\n",
       "    </tr>\n",
       "    <tr>\n",
       "      <th>freq</th>\n",
       "      <td>1</td>\n",
       "      <td>353</td>\n",
       "    </tr>\n",
       "  </tbody>\n",
       "</table>\n",
       "</div>"
      ],
      "text/plain": [
       "               image             label\n",
       "count          18353             18353\n",
       "unique         18353               176\n",
       "top     images/0.jpg  maclura_pomifera\n",
       "freq               1               353"
      ]
     },
     "execution_count": 2,
     "metadata": {},
     "output_type": "execute_result"
    }
   ],
   "source": [
    "train_df = pd.read_csv('./data/classify-leaves/train.csv')\n",
    "train_df.describe()"
   ]
  },
  {
   "cell_type": "code",
   "execution_count": 3,
   "id": "170a21ca",
   "metadata": {},
   "outputs": [
    {
     "name": "stdout",
     "output_type": "stream",
     "text": [
      "176\n"
     ]
    },
    {
     "data": {
      "text/plain": [
       "['abies_concolor',\n",
       " 'abies_nordmanniana',\n",
       " 'acer_campestre',\n",
       " 'acer_ginnala',\n",
       " 'acer_griseum',\n",
       " 'acer_negundo',\n",
       " 'acer_palmatum',\n",
       " 'acer_pensylvanicum',\n",
       " 'acer_platanoides',\n",
       " 'acer_pseudoplatanus']"
      ]
     },
     "execution_count": 3,
     "metadata": {},
     "output_type": "execute_result"
    }
   ],
   "source": [
    "leaves_labels = sorted(list(set(train_df['label'])))\n",
    "num_classes = len(leaves_labels)\n",
    "print(num_classes)\n",
    "leaves_labels[:10]"
   ]
  },
  {
   "cell_type": "code",
   "execution_count": 4,
   "id": "cbf922d7",
   "metadata": {},
   "outputs": [
    {
     "data": {
      "text/plain": [
       "{'abies_concolor': 0,\n",
       " 'abies_nordmanniana': 1,\n",
       " 'acer_campestre': 2,\n",
       " 'acer_ginnala': 3,\n",
       " 'acer_griseum': 4,\n",
       " 'acer_negundo': 5,\n",
       " 'acer_palmatum': 6,\n",
       " 'acer_pensylvanicum': 7,\n",
       " 'acer_platanoides': 8,\n",
       " 'acer_pseudoplatanus': 9,\n",
       " 'acer_rubrum': 10,\n",
       " 'acer_saccharinum': 11,\n",
       " 'acer_saccharum': 12,\n",
       " 'aesculus_flava': 13,\n",
       " 'aesculus_glabra': 14,\n",
       " 'aesculus_hippocastamon': 15,\n",
       " 'aesculus_pavi': 16,\n",
       " 'ailanthus_altissima': 17,\n",
       " 'albizia_julibrissin': 18,\n",
       " 'amelanchier_arborea': 19,\n",
       " 'amelanchier_canadensis': 20,\n",
       " 'amelanchier_laevis': 21,\n",
       " 'asimina_triloba': 22,\n",
       " 'betula_alleghaniensis': 23,\n",
       " 'betula_jacqemontii': 24,\n",
       " 'betula_lenta': 25,\n",
       " 'betula_nigra': 26,\n",
       " 'betula_populifolia': 27,\n",
       " 'broussonettia_papyrifera': 28,\n",
       " 'carpinus_betulus': 29,\n",
       " 'carpinus_caroliniana': 30,\n",
       " 'carya_cordiformis': 31,\n",
       " 'carya_glabra': 32,\n",
       " 'carya_ovata': 33,\n",
       " 'carya_tomentosa': 34,\n",
       " 'castanea_dentata': 35,\n",
       " 'catalpa_bignonioides': 36,\n",
       " 'catalpa_speciosa': 37,\n",
       " 'cedrus_atlantica': 38,\n",
       " 'cedrus_deodara': 39,\n",
       " 'cedrus_libani': 40,\n",
       " 'celtis_occidentalis': 41,\n",
       " 'celtis_tenuifolia': 42,\n",
       " 'cercidiphyllum_japonicum': 43,\n",
       " 'cercis_canadensis': 44,\n",
       " 'chamaecyparis_pisifera': 45,\n",
       " 'chamaecyparis_thyoides': 46,\n",
       " 'chionanthus_retusus': 47,\n",
       " 'chionanthus_virginicus': 48,\n",
       " 'cladrastis_lutea': 49,\n",
       " 'cornus_florida': 50,\n",
       " 'cornus_kousa': 51,\n",
       " 'cornus_mas': 52,\n",
       " 'crataegus_crus-galli': 53,\n",
       " 'crataegus_laevigata': 54,\n",
       " 'crataegus_phaenopyrum': 55,\n",
       " 'crataegus_pruinosa': 56,\n",
       " 'crataegus_viridis': 57,\n",
       " 'cryptomeria_japonica': 58,\n",
       " 'diospyros_virginiana': 59,\n",
       " 'eucommia_ulmoides': 60,\n",
       " 'evodia_daniellii': 61,\n",
       " 'fagus_grandifolia': 62,\n",
       " 'ficus_carica': 63,\n",
       " 'fraxinus_nigra': 64,\n",
       " 'fraxinus_pennsylvanica': 65,\n",
       " 'ginkgo_biloba': 66,\n",
       " 'gleditsia_triacanthos': 67,\n",
       " 'gymnocladus_dioicus': 68,\n",
       " 'halesia_tetraptera': 69,\n",
       " 'ilex_opaca': 70,\n",
       " 'juglans_cinerea': 71,\n",
       " 'juglans_nigra': 72,\n",
       " 'juniperus_virginiana': 73,\n",
       " 'koelreuteria_paniculata': 74,\n",
       " 'larix_decidua': 75,\n",
       " 'liquidambar_styraciflua': 76,\n",
       " 'liriodendron_tulipifera': 77,\n",
       " 'maclura_pomifera': 78,\n",
       " 'magnolia_acuminata': 79,\n",
       " 'magnolia_denudata': 80,\n",
       " 'magnolia_grandiflora': 81,\n",
       " 'magnolia_macrophylla': 82,\n",
       " 'magnolia_stellata': 83,\n",
       " 'magnolia_tripetala': 84,\n",
       " 'magnolia_virginiana': 85,\n",
       " 'malus_baccata': 86,\n",
       " 'malus_coronaria': 87,\n",
       " 'malus_floribunda': 88,\n",
       " 'malus_hupehensis': 89,\n",
       " 'malus_pumila': 90,\n",
       " 'metasequoia_glyptostroboides': 91,\n",
       " 'morus_alba': 92,\n",
       " 'morus_rubra': 93,\n",
       " 'nyssa_sylvatica': 94,\n",
       " 'ostrya_virginiana': 95,\n",
       " 'oxydendrum_arboreum': 96,\n",
       " 'paulownia_tomentosa': 97,\n",
       " 'phellodendron_amurense': 98,\n",
       " 'picea_abies': 99,\n",
       " 'picea_orientalis': 100,\n",
       " 'picea_pungens': 101,\n",
       " 'pinus_bungeana': 102,\n",
       " 'pinus_cembra': 103,\n",
       " 'pinus_densiflora': 104,\n",
       " 'pinus_echinata': 105,\n",
       " 'pinus_flexilis': 106,\n",
       " 'pinus_koraiensis': 107,\n",
       " 'pinus_nigra': 108,\n",
       " 'pinus_parviflora': 109,\n",
       " 'pinus_peucea': 110,\n",
       " 'pinus_pungens': 111,\n",
       " 'pinus_resinosa': 112,\n",
       " 'pinus_rigida': 113,\n",
       " 'pinus_strobus': 114,\n",
       " 'pinus_sylvestris': 115,\n",
       " 'pinus_taeda': 116,\n",
       " 'pinus_thunbergii': 117,\n",
       " 'pinus_virginiana': 118,\n",
       " 'pinus_wallichiana': 119,\n",
       " 'platanus_acerifolia': 120,\n",
       " 'platanus_occidentalis': 121,\n",
       " 'populus_deltoides': 122,\n",
       " 'populus_grandidentata': 123,\n",
       " 'populus_tremuloides': 124,\n",
       " 'prunus_pensylvanica': 125,\n",
       " 'prunus_sargentii': 126,\n",
       " 'prunus_serotina': 127,\n",
       " 'prunus_serrulata': 128,\n",
       " 'prunus_subhirtella': 129,\n",
       " 'prunus_virginiana': 130,\n",
       " 'prunus_yedoensis': 131,\n",
       " 'pseudolarix_amabilis': 132,\n",
       " 'ptelea_trifoliata': 133,\n",
       " 'pyrus_calleryana': 134,\n",
       " 'quercus_acutissima': 135,\n",
       " 'quercus_alba': 136,\n",
       " 'quercus_bicolor': 137,\n",
       " 'quercus_cerris': 138,\n",
       " 'quercus_coccinea': 139,\n",
       " 'quercus_imbricaria': 140,\n",
       " 'quercus_macrocarpa': 141,\n",
       " 'quercus_marilandica': 142,\n",
       " 'quercus_michauxii': 143,\n",
       " 'quercus_montana': 144,\n",
       " 'quercus_muehlenbergii': 145,\n",
       " 'quercus_nigra': 146,\n",
       " 'quercus_palustris': 147,\n",
       " 'quercus_phellos': 148,\n",
       " 'quercus_robur': 149,\n",
       " 'quercus_shumardii': 150,\n",
       " 'quercus_stellata': 151,\n",
       " 'quercus_velutina': 152,\n",
       " 'quercus_virginiana': 153,\n",
       " 'robinia_pseudo-acacia': 154,\n",
       " 'salix_babylonica': 155,\n",
       " 'salix_caroliniana': 156,\n",
       " 'salix_matsudana': 157,\n",
       " 'salix_nigra': 158,\n",
       " 'sassafras_albidum': 159,\n",
       " 'staphylea_trifolia': 160,\n",
       " 'stewartia_pseudocamellia': 161,\n",
       " 'styrax_japonica': 162,\n",
       " 'taxodium_distichum': 163,\n",
       " 'tilia_americana': 164,\n",
       " 'tilia_cordata': 165,\n",
       " 'tilia_europaea': 166,\n",
       " 'tilia_tomentosa': 167,\n",
       " 'tsuga_canadensis': 168,\n",
       " 'ulmus_americana': 169,\n",
       " 'ulmus_glabra': 170,\n",
       " 'ulmus_parvifolia': 171,\n",
       " 'ulmus_procera': 172,\n",
       " 'ulmus_pumila': 173,\n",
       " 'ulmus_rubra': 174,\n",
       " 'zelkova_serrata': 175}"
      ]
     },
     "execution_count": 4,
     "metadata": {},
     "output_type": "execute_result"
    }
   ],
   "source": [
    "class_to_num = dict(zip(leaves_labels, range(num_classes)))\n",
    "class_to_num"
   ]
  },
  {
   "cell_type": "code",
   "execution_count": 5,
   "id": "927e816f",
   "metadata": {},
   "outputs": [
    {
     "data": {
      "text/plain": [
       "{0: 'abies_concolor',\n",
       " 1: 'abies_nordmanniana',\n",
       " 2: 'acer_campestre',\n",
       " 3: 'acer_ginnala',\n",
       " 4: 'acer_griseum',\n",
       " 5: 'acer_negundo',\n",
       " 6: 'acer_palmatum',\n",
       " 7: 'acer_pensylvanicum',\n",
       " 8: 'acer_platanoides',\n",
       " 9: 'acer_pseudoplatanus',\n",
       " 10: 'acer_rubrum',\n",
       " 11: 'acer_saccharinum',\n",
       " 12: 'acer_saccharum',\n",
       " 13: 'aesculus_flava',\n",
       " 14: 'aesculus_glabra',\n",
       " 15: 'aesculus_hippocastamon',\n",
       " 16: 'aesculus_pavi',\n",
       " 17: 'ailanthus_altissima',\n",
       " 18: 'albizia_julibrissin',\n",
       " 19: 'amelanchier_arborea',\n",
       " 20: 'amelanchier_canadensis',\n",
       " 21: 'amelanchier_laevis',\n",
       " 22: 'asimina_triloba',\n",
       " 23: 'betula_alleghaniensis',\n",
       " 24: 'betula_jacqemontii',\n",
       " 25: 'betula_lenta',\n",
       " 26: 'betula_nigra',\n",
       " 27: 'betula_populifolia',\n",
       " 28: 'broussonettia_papyrifera',\n",
       " 29: 'carpinus_betulus',\n",
       " 30: 'carpinus_caroliniana',\n",
       " 31: 'carya_cordiformis',\n",
       " 32: 'carya_glabra',\n",
       " 33: 'carya_ovata',\n",
       " 34: 'carya_tomentosa',\n",
       " 35: 'castanea_dentata',\n",
       " 36: 'catalpa_bignonioides',\n",
       " 37: 'catalpa_speciosa',\n",
       " 38: 'cedrus_atlantica',\n",
       " 39: 'cedrus_deodara',\n",
       " 40: 'cedrus_libani',\n",
       " 41: 'celtis_occidentalis',\n",
       " 42: 'celtis_tenuifolia',\n",
       " 43: 'cercidiphyllum_japonicum',\n",
       " 44: 'cercis_canadensis',\n",
       " 45: 'chamaecyparis_pisifera',\n",
       " 46: 'chamaecyparis_thyoides',\n",
       " 47: 'chionanthus_retusus',\n",
       " 48: 'chionanthus_virginicus',\n",
       " 49: 'cladrastis_lutea',\n",
       " 50: 'cornus_florida',\n",
       " 51: 'cornus_kousa',\n",
       " 52: 'cornus_mas',\n",
       " 53: 'crataegus_crus-galli',\n",
       " 54: 'crataegus_laevigata',\n",
       " 55: 'crataegus_phaenopyrum',\n",
       " 56: 'crataegus_pruinosa',\n",
       " 57: 'crataegus_viridis',\n",
       " 58: 'cryptomeria_japonica',\n",
       " 59: 'diospyros_virginiana',\n",
       " 60: 'eucommia_ulmoides',\n",
       " 61: 'evodia_daniellii',\n",
       " 62: 'fagus_grandifolia',\n",
       " 63: 'ficus_carica',\n",
       " 64: 'fraxinus_nigra',\n",
       " 65: 'fraxinus_pennsylvanica',\n",
       " 66: 'ginkgo_biloba',\n",
       " 67: 'gleditsia_triacanthos',\n",
       " 68: 'gymnocladus_dioicus',\n",
       " 69: 'halesia_tetraptera',\n",
       " 70: 'ilex_opaca',\n",
       " 71: 'juglans_cinerea',\n",
       " 72: 'juglans_nigra',\n",
       " 73: 'juniperus_virginiana',\n",
       " 74: 'koelreuteria_paniculata',\n",
       " 75: 'larix_decidua',\n",
       " 76: 'liquidambar_styraciflua',\n",
       " 77: 'liriodendron_tulipifera',\n",
       " 78: 'maclura_pomifera',\n",
       " 79: 'magnolia_acuminata',\n",
       " 80: 'magnolia_denudata',\n",
       " 81: 'magnolia_grandiflora',\n",
       " 82: 'magnolia_macrophylla',\n",
       " 83: 'magnolia_stellata',\n",
       " 84: 'magnolia_tripetala',\n",
       " 85: 'magnolia_virginiana',\n",
       " 86: 'malus_baccata',\n",
       " 87: 'malus_coronaria',\n",
       " 88: 'malus_floribunda',\n",
       " 89: 'malus_hupehensis',\n",
       " 90: 'malus_pumila',\n",
       " 91: 'metasequoia_glyptostroboides',\n",
       " 92: 'morus_alba',\n",
       " 93: 'morus_rubra',\n",
       " 94: 'nyssa_sylvatica',\n",
       " 95: 'ostrya_virginiana',\n",
       " 96: 'oxydendrum_arboreum',\n",
       " 97: 'paulownia_tomentosa',\n",
       " 98: 'phellodendron_amurense',\n",
       " 99: 'picea_abies',\n",
       " 100: 'picea_orientalis',\n",
       " 101: 'picea_pungens',\n",
       " 102: 'pinus_bungeana',\n",
       " 103: 'pinus_cembra',\n",
       " 104: 'pinus_densiflora',\n",
       " 105: 'pinus_echinata',\n",
       " 106: 'pinus_flexilis',\n",
       " 107: 'pinus_koraiensis',\n",
       " 108: 'pinus_nigra',\n",
       " 109: 'pinus_parviflora',\n",
       " 110: 'pinus_peucea',\n",
       " 111: 'pinus_pungens',\n",
       " 112: 'pinus_resinosa',\n",
       " 113: 'pinus_rigida',\n",
       " 114: 'pinus_strobus',\n",
       " 115: 'pinus_sylvestris',\n",
       " 116: 'pinus_taeda',\n",
       " 117: 'pinus_thunbergii',\n",
       " 118: 'pinus_virginiana',\n",
       " 119: 'pinus_wallichiana',\n",
       " 120: 'platanus_acerifolia',\n",
       " 121: 'platanus_occidentalis',\n",
       " 122: 'populus_deltoides',\n",
       " 123: 'populus_grandidentata',\n",
       " 124: 'populus_tremuloides',\n",
       " 125: 'prunus_pensylvanica',\n",
       " 126: 'prunus_sargentii',\n",
       " 127: 'prunus_serotina',\n",
       " 128: 'prunus_serrulata',\n",
       " 129: 'prunus_subhirtella',\n",
       " 130: 'prunus_virginiana',\n",
       " 131: 'prunus_yedoensis',\n",
       " 132: 'pseudolarix_amabilis',\n",
       " 133: 'ptelea_trifoliata',\n",
       " 134: 'pyrus_calleryana',\n",
       " 135: 'quercus_acutissima',\n",
       " 136: 'quercus_alba',\n",
       " 137: 'quercus_bicolor',\n",
       " 138: 'quercus_cerris',\n",
       " 139: 'quercus_coccinea',\n",
       " 140: 'quercus_imbricaria',\n",
       " 141: 'quercus_macrocarpa',\n",
       " 142: 'quercus_marilandica',\n",
       " 143: 'quercus_michauxii',\n",
       " 144: 'quercus_montana',\n",
       " 145: 'quercus_muehlenbergii',\n",
       " 146: 'quercus_nigra',\n",
       " 147: 'quercus_palustris',\n",
       " 148: 'quercus_phellos',\n",
       " 149: 'quercus_robur',\n",
       " 150: 'quercus_shumardii',\n",
       " 151: 'quercus_stellata',\n",
       " 152: 'quercus_velutina',\n",
       " 153: 'quercus_virginiana',\n",
       " 154: 'robinia_pseudo-acacia',\n",
       " 155: 'salix_babylonica',\n",
       " 156: 'salix_caroliniana',\n",
       " 157: 'salix_matsudana',\n",
       " 158: 'salix_nigra',\n",
       " 159: 'sassafras_albidum',\n",
       " 160: 'staphylea_trifolia',\n",
       " 161: 'stewartia_pseudocamellia',\n",
       " 162: 'styrax_japonica',\n",
       " 163: 'taxodium_distichum',\n",
       " 164: 'tilia_americana',\n",
       " 165: 'tilia_cordata',\n",
       " 166: 'tilia_europaea',\n",
       " 167: 'tilia_tomentosa',\n",
       " 168: 'tsuga_canadensis',\n",
       " 169: 'ulmus_americana',\n",
       " 170: 'ulmus_glabra',\n",
       " 171: 'ulmus_parvifolia',\n",
       " 172: 'ulmus_procera',\n",
       " 173: 'ulmus_pumila',\n",
       " 174: 'ulmus_rubra',\n",
       " 175: 'zelkova_serrata'}"
      ]
     },
     "execution_count": 5,
     "metadata": {},
     "output_type": "execute_result"
    }
   ],
   "source": [
    "num_to_class = {v: k for k, v in class_to_num.items()}\n",
    "num_to_class"
   ]
  },
  {
   "cell_type": "code",
   "execution_count": 6,
   "id": "49561263",
   "metadata": {},
   "outputs": [],
   "source": [
    "class LeavesData(Dataset):\n",
    "    def __init__(self, csv_path, file_path, mode='train', valid_ratio=0.2, resize_height=256, resize_width=256):\n",
    "        self.resize_height = resize_height\n",
    "        self.resize_width = resize_width\n",
    "        \n",
    "        self.file_path = file_path\n",
    "        self.mode = mode\n",
    "        \n",
    "        self.data_info = pd.read_csv(csv_path, header=None)\n",
    "        self.data_len = len(self.data_info.index) - 1\n",
    "        self.train_len = int(self.data_len * (1 - valid_ratio))\n",
    "        \n",
    "        if mode == 'train':\n",
    "            self.train_image = np.asarray(self.data_info.iloc[1:self.train_len, 0])\n",
    "            self.train_label = np.asarray(self.data_info.iloc[1:self.train_len, 1])\n",
    "            self.image_arr = self.train_image\n",
    "            self.label_arr = self.train_label\n",
    "        elif mode == 'valid':\n",
    "            self.valid_image = np.asarray(self.data_info.iloc[self.train_len:, 0])\n",
    "            self.valid_label = np.asarray(self.data_info.iloc[self.train_len:, 1])\n",
    "            self.image_arr = self.valid_image\n",
    "            self.label_arr = self.valid_label\n",
    "        elif mode == 'test':\n",
    "            self.test_image = np.asarray(self.data_info.iloc[1:, 0])\n",
    "            self.image_arr = self.test_image\n",
    "        \n",
    "        self.real_len = len(self.image_arr)\n",
    "        \n",
    "        print('Finished reading the {} set of Leaves Dataset ({} samples found.)'.format(mode, self.real_len))\n",
    "    \n",
    "    def __getitem__(self, idx):\n",
    "        single_image_name = self.image_arr[idx]\n",
    "        image = Image.open(self.file_path + single_image_name)\n",
    "        \n",
    "        if self.mode == 'train':\n",
    "            transform = transforms.Compose([\n",
    "                # transforms.Resize((224, 224)),\n",
    "                transforms.RandomResizedCrop(224, scale=(0.8, 1.0), ratio=(3.0 / 4.0, 4.0 / 3.0)),\n",
    "                transforms.RandomHorizontalFlip(p=0.5),\n",
    "                transforms.ColorJitter(brightness=0.4, contrast=0.4, saturation=0.4),\n",
    "                transforms.ToTensor(),\n",
    "                transforms.Normalize([0.485, 0.456, 0.406], [0.229, 0.224, 0.225])\n",
    "            ])\n",
    "        else:\n",
    "            transform = transforms.Compose([\n",
    "                transforms.Resize((224, 224)),\n",
    "                transforms.ToTensor(),\n",
    "                transforms.Normalize([0.485, 0.456, 0.406], [0.229, 0.224, 0.225])\n",
    "            ])\n",
    "            \n",
    "        image = transform(image)\n",
    "        \n",
    "        if self.mode == 'test':\n",
    "            return image\n",
    "        else:\n",
    "            label = self.label_arr[idx]\n",
    "            number_label = class_to_num[label]\n",
    "            return image, number_label\n",
    "    \n",
    "    def __len__(self):\n",
    "        return self.real_len"
   ]
  },
  {
   "cell_type": "code",
   "execution_count": 7,
   "id": "ccbb7be3",
   "metadata": {},
   "outputs": [
    {
     "name": "stdout",
     "output_type": "stream",
     "text": [
      "Finished reading the train set of Leaves Dataset (14681 samples found.)\n",
      "Finished reading the valid set of Leaves Dataset (3672 samples found.)\n",
      "Finished reading the test set of Leaves Dataset (8800 samples found.)\n",
      "<__main__.LeavesData object at 0x000001681B9FA9A0>\n",
      "<__main__.LeavesData object at 0x000001681B9FAF40>\n",
      "<__main__.LeavesData object at 0x000001681B9FAE20>\n"
     ]
    }
   ],
   "source": [
    "train_path = './data/classify-leaves/train.csv'\n",
    "test_path = './data/classify-leaves/test.csv'\n",
    "image_path = './data/classify-leaves/'\n",
    "\n",
    "train_dataset = LeavesData(train_path, image_path, mode='train')\n",
    "valid_dataset = LeavesData(train_path, image_path, mode='valid')\n",
    "test_dataset = LeavesData(test_path, image_path, mode='test')\n",
    "print(train_dataset)\n",
    "print(valid_dataset)\n",
    "print(test_dataset)"
   ]
  },
  {
   "cell_type": "code",
   "execution_count": 8,
   "id": "d1f32f42",
   "metadata": {},
   "outputs": [],
   "source": [
    "train_loader = DataLoader(dataset=train_dataset, batch_size=128, shuffle=True, num_workers=0)\n",
    "val_loader = DataLoader(dataset=valid_dataset, batch_size=128, shuffle=False, num_workers=0)\n",
    "test_loader = DataLoader(dataset=test_dataset, batch_size=128, shuffle=False, num_workers=0)"
   ]
  },
  {
   "cell_type": "code",
   "execution_count": 9,
   "id": "065df274",
   "metadata": {},
   "outputs": [],
   "source": [
    "device = 'cuda' if torch.cuda.is_available() else 'cpu'"
   ]
  },
  {
   "cell_type": "code",
   "execution_count": 10,
   "id": "13c854a0",
   "metadata": {},
   "outputs": [],
   "source": [
    "# 是否要冻住模型的前面一些层\n",
    "def set_parameter_requires_grad(model, feature_extracting):\n",
    "    if feature_extracting:\n",
    "        model = model\n",
    "        for param in model.parameters():\n",
    "            param.requires_grad = False\n",
    "\n",
    "\n",
    "def network(num_classes, feature_extract = False, use_pretrained=True):\n",
    "\n",
    "    # model_ft = models.densenet161(pretrained=use_pretrained)\n",
    "    model_ft = models.resnet34(pretrained=use_pretrained)\n",
    "    set_parameter_requires_grad(model_ft, feature_extract)\n",
    "    # num_ftrs = model_ft.classifier.in_features\n",
    "    num_ftrs = model_ft.fc.in_features\n",
    "    model_ft.fc = nn.Sequential(nn.Linear(num_ftrs, num_classes))\n",
    "\n",
    "    return model_ft"
   ]
  },
  {
   "cell_type": "code",
   "execution_count": 11,
   "id": "44b74d67",
   "metadata": {},
   "outputs": [],
   "source": [
    "learning_rate = 1e-4\n",
    "weight_decay = 1e-3\n",
    "num_epochs = 30\n",
    "model_path = './trained_model'"
   ]
  },
  {
   "cell_type": "code",
   "execution_count": 12,
   "id": "0f24486d",
   "metadata": {},
   "outputs": [
    {
     "name": "stderr",
     "output_type": "stream",
     "text": [
      "  0%|                                                                                          | 0/115 [00:00<?, ?it/s]d:\\miniconda\\lib\\site-packages\\torch\\nn\\functional.py:718: UserWarning: Named tensors and all their associated APIs are an experimental feature and subject to change. Please do not use them for anything important until they are released as stable. (Triggered internally at  ..\\c10/core/TensorImpl.h:1156.)\n",
      "  return torch.max_pool2d(input, kernel_size, stride, padding, dilation, ceil_mode)\n",
      "100%|████████████████████████████████████████████████████████████████████████████████| 115/115 [01:09<00:00,  1.65it/s]\n",
      "  3%|██▊                                                                                | 1/29 [00:00<00:05,  5.26it/s]"
     ]
    },
    {
     "name": "stdout",
     "output_type": "stream",
     "text": [
      "[ Train | 001/050 ] loss = 3.15603, acc = 0.36137\n"
     ]
    },
    {
     "name": "stderr",
     "output_type": "stream",
     "text": [
      "100%|██████████████████████████████████████████████████████████████████████████████████| 29/29 [00:05<00:00,  5.31it/s]\n",
      "  0%|                                                                                          | 0/115 [00:00<?, ?it/s]"
     ]
    },
    {
     "name": "stdout",
     "output_type": "stream",
     "text": [
      "[ Valid | 001/050 ] loss = 1.85109, acc = 0.58567\n",
      "saving model with acc 0.586\n"
     ]
    },
    {
     "name": "stderr",
     "output_type": "stream",
     "text": [
      "100%|████████████████████████████████████████████████████████████████████████████████| 115/115 [01:07<00:00,  1.70it/s]\n",
      "  3%|██▊                                                                                | 1/29 [00:00<00:05,  5.33it/s]"
     ]
    },
    {
     "name": "stdout",
     "output_type": "stream",
     "text": [
      "[ Train | 002/050 ] loss = 1.25178, acc = 0.71953\n"
     ]
    },
    {
     "name": "stderr",
     "output_type": "stream",
     "text": [
      "100%|██████████████████████████████████████████████████████████████████████████████████| 29/29 [00:05<00:00,  5.35it/s]\n",
      "  0%|                                                                                          | 0/115 [00:00<?, ?it/s]"
     ]
    },
    {
     "name": "stdout",
     "output_type": "stream",
     "text": [
      "[ Valid | 002/050 ] loss = 0.99742, acc = 0.75715\n",
      "saving model with acc 0.757\n"
     ]
    },
    {
     "name": "stderr",
     "output_type": "stream",
     "text": [
      "100%|████████████████████████████████████████████████████████████████████████████████| 115/115 [01:08<00:00,  1.68it/s]\n",
      "  3%|██▊                                                                                | 1/29 [00:00<00:05,  5.55it/s]"
     ]
    },
    {
     "name": "stdout",
     "output_type": "stream",
     "text": [
      "[ Train | 003/050 ] loss = 0.69261, acc = 0.83962\n"
     ]
    },
    {
     "name": "stderr",
     "output_type": "stream",
     "text": [
      "100%|██████████████████████████████████████████████████████████████████████████████████| 29/29 [00:05<00:00,  5.31it/s]\n",
      "  0%|                                                                                          | 0/115 [00:00<?, ?it/s]"
     ]
    },
    {
     "name": "stdout",
     "output_type": "stream",
     "text": [
      "[ Valid | 003/050 ] loss = 0.66188, acc = 0.82548\n",
      "saving model with acc 0.825\n"
     ]
    },
    {
     "name": "stderr",
     "output_type": "stream",
     "text": [
      "100%|████████████████████████████████████████████████████████████████████████████████| 115/115 [01:08<00:00,  1.69it/s]\n",
      "  3%|██▊                                                                                | 1/29 [00:00<00:05,  5.25it/s]"
     ]
    },
    {
     "name": "stdout",
     "output_type": "stream",
     "text": [
      "[ Train | 004/050 ] loss = 0.47572, acc = 0.88125\n"
     ]
    },
    {
     "name": "stderr",
     "output_type": "stream",
     "text": [
      "100%|██████████████████████████████████████████████████████████████████████████████████| 29/29 [00:05<00:00,  5.35it/s]\n",
      "  0%|                                                                                          | 0/115 [00:00<?, ?it/s]"
     ]
    },
    {
     "name": "stdout",
     "output_type": "stream",
     "text": [
      "[ Valid | 004/050 ] loss = 0.52921, acc = 0.85923\n",
      "saving model with acc 0.859\n"
     ]
    },
    {
     "name": "stderr",
     "output_type": "stream",
     "text": [
      "100%|████████████████████████████████████████████████████████████████████████████████| 115/115 [01:07<00:00,  1.69it/s]\n",
      "  3%|██▊                                                                                | 1/29 [00:00<00:05,  5.26it/s]"
     ]
    },
    {
     "name": "stdout",
     "output_type": "stream",
     "text": [
      "[ Train | 005/050 ] loss = 0.34279, acc = 0.91288\n"
     ]
    },
    {
     "name": "stderr",
     "output_type": "stream",
     "text": [
      "100%|██████████████████████████████████████████████████████████████████████████████████| 29/29 [00:05<00:00,  5.32it/s]\n",
      "  0%|                                                                                          | 0/115 [00:00<?, ?it/s]"
     ]
    },
    {
     "name": "stdout",
     "output_type": "stream",
     "text": [
      "[ Valid | 005/050 ] loss = 0.44771, acc = 0.87622\n",
      "saving model with acc 0.876\n"
     ]
    },
    {
     "name": "stderr",
     "output_type": "stream",
     "text": [
      "100%|████████████████████████████████████████████████████████████████████████████████| 115/115 [01:07<00:00,  1.70it/s]\n",
      "  3%|██▊                                                                                | 1/29 [00:00<00:05,  5.32it/s]"
     ]
    },
    {
     "name": "stdout",
     "output_type": "stream",
     "text": [
      "[ Train | 006/050 ] loss = 0.26732, acc = 0.93103\n"
     ]
    },
    {
     "name": "stderr",
     "output_type": "stream",
     "text": [
      "100%|██████████████████████████████████████████████████████████████████████████████████| 29/29 [00:05<00:00,  5.34it/s]\n",
      "  0%|                                                                                          | 0/115 [00:00<?, ?it/s]"
     ]
    },
    {
     "name": "stdout",
     "output_type": "stream",
     "text": [
      "[ Valid | 006/050 ] loss = 0.43564, acc = 0.87441\n"
     ]
    },
    {
     "name": "stderr",
     "output_type": "stream",
     "text": [
      "100%|████████████████████████████████████████████████████████████████████████████████| 115/115 [01:08<00:00,  1.69it/s]\n",
      "  3%|██▊                                                                                | 1/29 [00:00<00:05,  5.33it/s]"
     ]
    },
    {
     "name": "stdout",
     "output_type": "stream",
     "text": [
      "[ Train | 007/050 ] loss = 0.22448, acc = 0.94089\n"
     ]
    },
    {
     "name": "stderr",
     "output_type": "stream",
     "text": [
      "100%|██████████████████████████████████████████████████████████████████████████████████| 29/29 [00:05<00:00,  5.31it/s]\n",
      "  0%|                                                                                          | 0/115 [00:00<?, ?it/s]"
     ]
    },
    {
     "name": "stdout",
     "output_type": "stream",
     "text": [
      "[ Valid | 007/050 ] loss = 0.34888, acc = 0.89743\n",
      "saving model with acc 0.897\n"
     ]
    },
    {
     "name": "stderr",
     "output_type": "stream",
     "text": [
      "100%|████████████████████████████████████████████████████████████████████████████████| 115/115 [01:07<00:00,  1.70it/s]\n",
      "  3%|██▊                                                                                | 1/29 [00:00<00:05,  5.33it/s]"
     ]
    },
    {
     "name": "stdout",
     "output_type": "stream",
     "text": [
      "[ Train | 008/050 ] loss = 0.21116, acc = 0.94081\n"
     ]
    },
    {
     "name": "stderr",
     "output_type": "stream",
     "text": [
      "100%|██████████████████████████████████████████████████████████████████████████████████| 29/29 [00:05<00:00,  5.34it/s]\n",
      "  0%|                                                                                          | 0/115 [00:00<?, ?it/s]"
     ]
    },
    {
     "name": "stdout",
     "output_type": "stream",
     "text": [
      "[ Valid | 008/050 ] loss = 0.34597, acc = 0.90698\n",
      "saving model with acc 0.907\n"
     ]
    },
    {
     "name": "stderr",
     "output_type": "stream",
     "text": [
      "100%|████████████████████████████████████████████████████████████████████████████████| 115/115 [01:07<00:00,  1.70it/s]\n",
      "  3%|██▊                                                                                | 1/29 [00:00<00:05,  5.34it/s]"
     ]
    },
    {
     "name": "stdout",
     "output_type": "stream",
     "text": [
      "[ Train | 009/050 ] loss = 0.17485, acc = 0.95286\n"
     ]
    },
    {
     "name": "stderr",
     "output_type": "stream",
     "text": [
      "100%|██████████████████████████████████████████████████████████████████████████████████| 29/29 [00:05<00:00,  5.31it/s]\n",
      "  0%|                                                                                          | 0/115 [00:00<?, ?it/s]"
     ]
    },
    {
     "name": "stdout",
     "output_type": "stream",
     "text": [
      "[ Valid | 009/050 ] loss = 0.29014, acc = 0.91465\n",
      "saving model with acc 0.915\n"
     ]
    },
    {
     "name": "stderr",
     "output_type": "stream",
     "text": [
      "100%|████████████████████████████████████████████████████████████████████████████████| 115/115 [01:07<00:00,  1.69it/s]\n",
      "  3%|██▊                                                                                | 1/29 [00:00<00:05,  5.33it/s]"
     ]
    },
    {
     "name": "stdout",
     "output_type": "stream",
     "text": [
      "[ Train | 010/050 ] loss = 0.15866, acc = 0.95633\n"
     ]
    },
    {
     "name": "stderr",
     "output_type": "stream",
     "text": [
      "100%|██████████████████████████████████████████████████████████████████████████████████| 29/29 [00:05<00:00,  5.34it/s]\n",
      "  0%|                                                                                          | 0/115 [00:00<?, ?it/s]"
     ]
    },
    {
     "name": "stdout",
     "output_type": "stream",
     "text": [
      "[ Valid | 010/050 ] loss = 0.31791, acc = 0.90816\n"
     ]
    },
    {
     "name": "stderr",
     "output_type": "stream",
     "text": [
      "100%|████████████████████████████████████████████████████████████████████████████████| 115/115 [01:07<00:00,  1.70it/s]\n",
      "  3%|██▊                                                                                | 1/29 [00:00<00:05,  5.31it/s]"
     ]
    },
    {
     "name": "stdout",
     "output_type": "stream",
     "text": [
      "[ Train | 011/050 ] loss = 0.14471, acc = 0.96052\n"
     ]
    },
    {
     "name": "stderr",
     "output_type": "stream",
     "text": [
      "100%|██████████████████████████████████████████████████████████████████████████████████| 29/29 [00:05<00:00,  5.25it/s]\n",
      "  0%|                                                                                          | 0/115 [00:00<?, ?it/s]"
     ]
    },
    {
     "name": "stdout",
     "output_type": "stream",
     "text": [
      "[ Valid | 011/050 ] loss = 0.33100, acc = 0.90231\n"
     ]
    },
    {
     "name": "stderr",
     "output_type": "stream",
     "text": [
      "100%|████████████████████████████████████████████████████████████████████████████████| 115/115 [01:07<00:00,  1.69it/s]\n",
      "  3%|██▊                                                                                | 1/29 [00:00<00:05,  5.29it/s]"
     ]
    },
    {
     "name": "stdout",
     "output_type": "stream",
     "text": [
      "[ Train | 012/050 ] loss = 0.14956, acc = 0.95728\n"
     ]
    },
    {
     "name": "stderr",
     "output_type": "stream",
     "text": [
      "100%|██████████████████████████████████████████████████████████████████████████████████| 29/29 [00:05<00:00,  5.32it/s]\n",
      "  0%|                                                                                          | 0/115 [00:00<?, ?it/s]"
     ]
    },
    {
     "name": "stdout",
     "output_type": "stream",
     "text": [
      "[ Valid | 012/050 ] loss = 0.34023, acc = 0.90025\n"
     ]
    },
    {
     "name": "stderr",
     "output_type": "stream",
     "text": [
      "100%|████████████████████████████████████████████████████████████████████████████████| 115/115 [01:07<00:00,  1.71it/s]\n",
      "  3%|██▊                                                                                | 1/29 [00:00<00:05,  5.39it/s]"
     ]
    },
    {
     "name": "stdout",
     "output_type": "stream",
     "text": [
      "[ Train | 013/050 ] loss = 0.15473, acc = 0.95433\n"
     ]
    },
    {
     "name": "stderr",
     "output_type": "stream",
     "text": [
      "100%|██████████████████████████████████████████████████████████████████████████████████| 29/29 [00:05<00:00,  5.32it/s]\n",
      "  0%|                                                                                          | 0/115 [00:00<?, ?it/s]"
     ]
    },
    {
     "name": "stdout",
     "output_type": "stream",
     "text": [
      "[ Valid | 013/050 ] loss = 0.35670, acc = 0.88857\n"
     ]
    },
    {
     "name": "stderr",
     "output_type": "stream",
     "text": [
      "100%|████████████████████████████████████████████████████████████████████████████████| 115/115 [01:07<00:00,  1.71it/s]\n",
      "  3%|██▊                                                                                | 1/29 [00:00<00:05,  5.36it/s]"
     ]
    },
    {
     "name": "stdout",
     "output_type": "stream",
     "text": [
      "[ Train | 014/050 ] loss = 0.12735, acc = 0.96347\n"
     ]
    },
    {
     "name": "stderr",
     "output_type": "stream",
     "text": [
      "100%|██████████████████████████████████████████████████████████████████████████████████| 29/29 [00:05<00:00,  5.35it/s]\n",
      "  0%|                                                                                          | 0/115 [00:00<?, ?it/s]"
     ]
    },
    {
     "name": "stdout",
     "output_type": "stream",
     "text": [
      "[ Valid | 014/050 ] loss = 0.33736, acc = 0.89378\n"
     ]
    },
    {
     "name": "stderr",
     "output_type": "stream",
     "text": [
      "100%|████████████████████████████████████████████████████████████████████████████████| 115/115 [01:07<00:00,  1.71it/s]\n",
      "  3%|██▊                                                                                | 1/29 [00:00<00:05,  5.33it/s]"
     ]
    },
    {
     "name": "stdout",
     "output_type": "stream",
     "text": [
      "[ Train | 015/050 ] loss = 0.12941, acc = 0.96333\n"
     ]
    },
    {
     "name": "stderr",
     "output_type": "stream",
     "text": [
      "100%|██████████████████████████████████████████████████████████████████████████████████| 29/29 [00:05<00:00,  5.33it/s]\n",
      "  0%|                                                                                          | 0/115 [00:00<?, ?it/s]"
     ]
    },
    {
     "name": "stdout",
     "output_type": "stream",
     "text": [
      "[ Valid | 015/050 ] loss = 0.29218, acc = 0.91024\n"
     ]
    },
    {
     "name": "stderr",
     "output_type": "stream",
     "text": [
      "100%|████████████████████████████████████████████████████████████████████████████████| 115/115 [01:07<00:00,  1.71it/s]\n",
      "  3%|██▊                                                                                | 1/29 [00:00<00:05,  5.25it/s]"
     ]
    },
    {
     "name": "stdout",
     "output_type": "stream",
     "text": [
      "[ Train | 016/050 ] loss = 0.12899, acc = 0.96241\n"
     ]
    },
    {
     "name": "stderr",
     "output_type": "stream",
     "text": [
      "100%|██████████████████████████████████████████████████████████████████████████████████| 29/29 [00:05<00:00,  5.32it/s]\n",
      "  0%|                                                                                          | 0/115 [00:00<?, ?it/s]"
     ]
    },
    {
     "name": "stdout",
     "output_type": "stream",
     "text": [
      "[ Valid | 016/050 ] loss = 0.35375, acc = 0.89423\n"
     ]
    },
    {
     "name": "stderr",
     "output_type": "stream",
     "text": [
      "100%|████████████████████████████████████████████████████████████████████████████████| 115/115 [01:07<00:00,  1.70it/s]\n",
      "  3%|██▊                                                                                | 1/29 [00:00<00:05,  5.36it/s]"
     ]
    },
    {
     "name": "stdout",
     "output_type": "stream",
     "text": [
      "[ Train | 017/050 ] loss = 0.13459, acc = 0.96129\n"
     ]
    },
    {
     "name": "stderr",
     "output_type": "stream",
     "text": [
      "100%|██████████████████████████████████████████████████████████████████████████████████| 29/29 [00:05<00:00,  5.35it/s]\n",
      "  0%|                                                                                          | 0/115 [00:00<?, ?it/s]"
     ]
    },
    {
     "name": "stdout",
     "output_type": "stream",
     "text": [
      "[ Valid | 017/050 ] loss = 0.36823, acc = 0.89075\n"
     ]
    },
    {
     "name": "stderr",
     "output_type": "stream",
     "text": [
      "100%|████████████████████████████████████████████████████████████████████████████████| 115/115 [01:07<00:00,  1.71it/s]\n",
      "  3%|██▊                                                                                | 1/29 [00:00<00:05,  5.29it/s]"
     ]
    },
    {
     "name": "stdout",
     "output_type": "stream",
     "text": [
      "[ Train | 018/050 ] loss = 0.14626, acc = 0.95655\n"
     ]
    },
    {
     "name": "stderr",
     "output_type": "stream",
     "text": [
      "100%|██████████████████████████████████████████████████████████████████████████████████| 29/29 [00:05<00:00,  5.31it/s]\n",
      "  0%|                                                                                          | 0/115 [00:00<?, ?it/s]"
     ]
    },
    {
     "name": "stdout",
     "output_type": "stream",
     "text": [
      "[ Valid | 018/050 ] loss = 0.28846, acc = 0.91656\n",
      "saving model with acc 0.917\n"
     ]
    },
    {
     "name": "stderr",
     "output_type": "stream",
     "text": [
      "100%|████████████████████████████████████████████████████████████████████████████████| 115/115 [01:07<00:00,  1.71it/s]\n",
      "  3%|██▊                                                                                | 1/29 [00:00<00:05,  5.32it/s]"
     ]
    },
    {
     "name": "stdout",
     "output_type": "stream",
     "text": [
      "[ Train | 019/050 ] loss = 0.12747, acc = 0.96384\n"
     ]
    },
    {
     "name": "stderr",
     "output_type": "stream",
     "text": [
      "100%|██████████████████████████████████████████████████████████████████████████████████| 29/29 [00:05<00:00,  5.34it/s]\n",
      "  0%|                                                                                          | 0/115 [00:00<?, ?it/s]"
     ]
    },
    {
     "name": "stdout",
     "output_type": "stream",
     "text": [
      "[ Valid | 019/050 ] loss = 0.25829, acc = 0.92450\n",
      "saving model with acc 0.924\n"
     ]
    },
    {
     "name": "stderr",
     "output_type": "stream",
     "text": [
      "100%|████████████████████████████████████████████████████████████████████████████████| 115/115 [01:07<00:00,  1.70it/s]\n",
      "  3%|██▊                                                                                | 1/29 [00:00<00:05,  5.29it/s]"
     ]
    },
    {
     "name": "stdout",
     "output_type": "stream",
     "text": [
      "[ Train | 020/050 ] loss = 0.11613, acc = 0.96534\n"
     ]
    },
    {
     "name": "stderr",
     "output_type": "stream",
     "text": [
      "100%|██████████████████████████████████████████████████████████████████████████████████| 29/29 [00:05<00:00,  5.33it/s]\n",
      "  0%|                                                                                          | 0/115 [00:00<?, ?it/s]"
     ]
    },
    {
     "name": "stdout",
     "output_type": "stream",
     "text": [
      "[ Valid | 020/050 ] loss = 0.29725, acc = 0.90796\n"
     ]
    },
    {
     "name": "stderr",
     "output_type": "stream",
     "text": [
      "100%|████████████████████████████████████████████████████████████████████████████████| 115/115 [01:07<00:00,  1.71it/s]\n",
      "  3%|██▊                                                                                | 1/29 [00:00<00:05,  5.28it/s]"
     ]
    },
    {
     "name": "stdout",
     "output_type": "stream",
     "text": [
      "[ Train | 021/050 ] loss = 0.11448, acc = 0.96655\n"
     ]
    },
    {
     "name": "stderr",
     "output_type": "stream",
     "text": [
      "100%|██████████████████████████████████████████████████████████████████████████████████| 29/29 [00:05<00:00,  5.30it/s]\n",
      "  0%|                                                                                          | 0/115 [00:00<?, ?it/s]"
     ]
    },
    {
     "name": "stdout",
     "output_type": "stream",
     "text": [
      "[ Valid | 021/050 ] loss = 0.28067, acc = 0.91629\n"
     ]
    },
    {
     "name": "stderr",
     "output_type": "stream",
     "text": [
      "100%|████████████████████████████████████████████████████████████████████████████████| 115/115 [01:08<00:00,  1.69it/s]\n",
      "  3%|██▊                                                                                | 1/29 [00:00<00:05,  5.33it/s]"
     ]
    },
    {
     "name": "stdout",
     "output_type": "stream",
     "text": [
      "[ Train | 022/050 ] loss = 0.11201, acc = 0.96764\n"
     ]
    },
    {
     "name": "stderr",
     "output_type": "stream",
     "text": [
      "100%|██████████████████████████████████████████████████████████████████████████████████| 29/29 [00:05<00:00,  5.37it/s]\n",
      "  0%|                                                                                          | 0/115 [00:00<?, ?it/s]"
     ]
    },
    {
     "name": "stdout",
     "output_type": "stream",
     "text": [
      "[ Valid | 022/050 ] loss = 0.29419, acc = 0.90860\n"
     ]
    },
    {
     "name": "stderr",
     "output_type": "stream",
     "text": [
      "100%|████████████████████████████████████████████████████████████████████████████████| 115/115 [01:07<00:00,  1.69it/s]\n",
      "  3%|██▊                                                                                | 1/29 [00:00<00:05,  4.90it/s]"
     ]
    },
    {
     "name": "stdout",
     "output_type": "stream",
     "text": [
      "[ Train | 023/050 ] loss = 0.10963, acc = 0.96805\n"
     ]
    },
    {
     "name": "stderr",
     "output_type": "stream",
     "text": [
      "100%|██████████████████████████████████████████████████████████████████████████████████| 29/29 [00:05<00:00,  5.20it/s]\n",
      "  0%|                                                                                          | 0/115 [00:00<?, ?it/s]"
     ]
    },
    {
     "name": "stdout",
     "output_type": "stream",
     "text": [
      "[ Valid | 023/050 ] loss = 0.28383, acc = 0.91695\n"
     ]
    },
    {
     "name": "stderr",
     "output_type": "stream",
     "text": [
      "100%|████████████████████████████████████████████████████████████████████████████████| 115/115 [01:08<00:00,  1.67it/s]\n",
      "  3%|██▊                                                                                | 1/29 [00:00<00:05,  5.34it/s]"
     ]
    },
    {
     "name": "stdout",
     "output_type": "stream",
     "text": [
      "[ Train | 024/050 ] loss = 0.11873, acc = 0.96275\n"
     ]
    },
    {
     "name": "stderr",
     "output_type": "stream",
     "text": [
      "100%|██████████████████████████████████████████████████████████████████████████████████| 29/29 [00:05<00:00,  5.24it/s]\n",
      "  0%|                                                                                          | 0/115 [00:00<?, ?it/s]"
     ]
    },
    {
     "name": "stdout",
     "output_type": "stream",
     "text": [
      "[ Valid | 024/050 ] loss = 0.32265, acc = 0.90184\n"
     ]
    },
    {
     "name": "stderr",
     "output_type": "stream",
     "text": [
      "100%|████████████████████████████████████████████████████████████████████████████████| 115/115 [01:08<00:00,  1.67it/s]\n",
      "  3%|██▊                                                                                | 1/29 [00:00<00:05,  5.32it/s]"
     ]
    },
    {
     "name": "stdout",
     "output_type": "stream",
     "text": [
      "[ Train | 025/050 ] loss = 0.12197, acc = 0.96625\n"
     ]
    },
    {
     "name": "stderr",
     "output_type": "stream",
     "text": [
      "100%|██████████████████████████████████████████████████████████████████████████████████| 29/29 [00:05<00:00,  5.30it/s]\n",
      "  0%|                                                                                          | 0/115 [00:00<?, ?it/s]"
     ]
    },
    {
     "name": "stdout",
     "output_type": "stream",
     "text": [
      "[ Valid | 025/050 ] loss = 0.25941, acc = 0.92464\n",
      "saving model with acc 0.925\n"
     ]
    },
    {
     "name": "stderr",
     "output_type": "stream",
     "text": [
      "100%|████████████████████████████████████████████████████████████████████████████████| 115/115 [01:08<00:00,  1.67it/s]\n",
      "  3%|██▊                                                                                | 1/29 [00:00<00:05,  5.49it/s]"
     ]
    },
    {
     "name": "stdout",
     "output_type": "stream",
     "text": [
      "[ Train | 026/050 ] loss = 0.11544, acc = 0.96523\n"
     ]
    },
    {
     "name": "stderr",
     "output_type": "stream",
     "text": [
      "100%|██████████████████████████████████████████████████████████████████████████████████| 29/29 [00:05<00:00,  5.30it/s]\n",
      "  0%|                                                                                          | 0/115 [00:00<?, ?it/s]"
     ]
    },
    {
     "name": "stdout",
     "output_type": "stream",
     "text": [
      "[ Valid | 026/050 ] loss = 0.32391, acc = 0.90946\n"
     ]
    },
    {
     "name": "stderr",
     "output_type": "stream",
     "text": [
      "100%|████████████████████████████████████████████████████████████████████████████████| 115/115 [01:08<00:00,  1.68it/s]\n",
      "  3%|██▊                                                                                | 1/29 [00:00<00:05,  5.28it/s]"
     ]
    },
    {
     "name": "stdout",
     "output_type": "stream",
     "text": [
      "[ Train | 027/050 ] loss = 0.11090, acc = 0.96600\n"
     ]
    },
    {
     "name": "stderr",
     "output_type": "stream",
     "text": [
      "100%|██████████████████████████████████████████████████████████████████████████████████| 29/29 [00:05<00:00,  5.31it/s]\n",
      "  0%|                                                                                          | 0/115 [00:00<?, ?it/s]"
     ]
    },
    {
     "name": "stdout",
     "output_type": "stream",
     "text": [
      "[ Valid | 027/050 ] loss = 0.32369, acc = 0.90233\n"
     ]
    },
    {
     "name": "stderr",
     "output_type": "stream",
     "text": [
      "100%|████████████████████████████████████████████████████████████████████████████████| 115/115 [01:08<00:00,  1.69it/s]\n",
      "  3%|██▊                                                                                | 1/29 [00:00<00:05,  5.29it/s]"
     ]
    },
    {
     "name": "stdout",
     "output_type": "stream",
     "text": [
      "[ Train | 028/050 ] loss = 0.11116, acc = 0.96704\n"
     ]
    },
    {
     "name": "stderr",
     "output_type": "stream",
     "text": [
      "100%|██████████████████████████████████████████████████████████████████████████████████| 29/29 [00:05<00:00,  5.31it/s]\n",
      "  0%|                                                                                          | 0/115 [00:00<?, ?it/s]"
     ]
    },
    {
     "name": "stdout",
     "output_type": "stream",
     "text": [
      "[ Valid | 028/050 ] loss = 0.30019, acc = 0.91159\n"
     ]
    },
    {
     "name": "stderr",
     "output_type": "stream",
     "text": [
      "100%|████████████████████████████████████████████████████████████████████████████████| 115/115 [01:07<00:00,  1.69it/s]\n",
      "  3%|██▊                                                                                | 1/29 [00:00<00:05,  5.31it/s]"
     ]
    },
    {
     "name": "stdout",
     "output_type": "stream",
     "text": [
      "[ Train | 029/050 ] loss = 0.11841, acc = 0.96588\n"
     ]
    },
    {
     "name": "stderr",
     "output_type": "stream",
     "text": [
      "100%|██████████████████████████████████████████████████████████████████████████████████| 29/29 [00:05<00:00,  5.26it/s]\n",
      "  0%|                                                                                          | 0/115 [00:00<?, ?it/s]"
     ]
    },
    {
     "name": "stdout",
     "output_type": "stream",
     "text": [
      "[ Valid | 029/050 ] loss = 0.27247, acc = 0.91815\n"
     ]
    },
    {
     "name": "stderr",
     "output_type": "stream",
     "text": [
      "100%|████████████████████████████████████████████████████████████████████████████████| 115/115 [01:08<00:00,  1.69it/s]\n",
      "  0%|                                                                                           | 0/29 [00:00<?, ?it/s]"
     ]
    },
    {
     "name": "stdout",
     "output_type": "stream",
     "text": [
      "[ Train | 030/050 ] loss = 0.12086, acc = 0.96332\n"
     ]
    },
    {
     "name": "stderr",
     "output_type": "stream",
     "text": [
      "100%|██████████████████████████████████████████████████████████████████████████████████| 29/29 [00:05<00:00,  5.29it/s]\n",
      "  0%|                                                                                          | 0/115 [00:00<?, ?it/s]"
     ]
    },
    {
     "name": "stdout",
     "output_type": "stream",
     "text": [
      "[ Valid | 030/050 ] loss = 0.34819, acc = 0.90174\n"
     ]
    },
    {
     "name": "stderr",
     "output_type": "stream",
     "text": [
      "100%|████████████████████████████████████████████████████████████████████████████████| 115/115 [01:07<00:00,  1.69it/s]\n",
      "  3%|██▊                                                                                | 1/29 [00:00<00:05,  5.33it/s]"
     ]
    },
    {
     "name": "stdout",
     "output_type": "stream",
     "text": [
      "[ Train | 031/050 ] loss = 0.12561, acc = 0.96267\n"
     ]
    },
    {
     "name": "stderr",
     "output_type": "stream",
     "text": [
      "100%|██████████████████████████████████████████████████████████████████████████████████| 29/29 [00:05<00:00,  5.30it/s]\n",
      "  0%|                                                                                          | 0/115 [00:00<?, ?it/s]"
     ]
    },
    {
     "name": "stdout",
     "output_type": "stream",
     "text": [
      "[ Valid | 031/050 ] loss = 0.30699, acc = 0.91147\n"
     ]
    },
    {
     "name": "stderr",
     "output_type": "stream",
     "text": [
      "100%|████████████████████████████████████████████████████████████████████████████████| 115/115 [01:07<00:00,  1.69it/s]\n",
      "  3%|██▊                                                                                | 1/29 [00:00<00:05,  5.32it/s]"
     ]
    },
    {
     "name": "stdout",
     "output_type": "stream",
     "text": [
      "[ Train | 032/050 ] loss = 0.10538, acc = 0.96842\n"
     ]
    },
    {
     "name": "stderr",
     "output_type": "stream",
     "text": [
      "100%|██████████████████████████████████████████████████████████████████████████████████| 29/29 [00:05<00:00,  5.32it/s]\n",
      "  0%|                                                                                          | 0/115 [00:00<?, ?it/s]"
     ]
    },
    {
     "name": "stdout",
     "output_type": "stream",
     "text": [
      "[ Valid | 032/050 ] loss = 0.29055, acc = 0.91257\n"
     ]
    },
    {
     "name": "stderr",
     "output_type": "stream",
     "text": [
      "100%|████████████████████████████████████████████████████████████████████████████████| 115/115 [01:07<00:00,  1.69it/s]\n",
      "  3%|██▊                                                                                | 1/29 [00:00<00:05,  5.25it/s]"
     ]
    },
    {
     "name": "stdout",
     "output_type": "stream",
     "text": [
      "[ Train | 033/050 ] loss = 0.11483, acc = 0.96641\n"
     ]
    },
    {
     "name": "stderr",
     "output_type": "stream",
     "text": [
      "100%|██████████████████████████████████████████████████████████████████████████████████| 29/29 [00:05<00:00,  5.32it/s]\n",
      "  0%|                                                                                          | 0/115 [00:00<?, ?it/s]"
     ]
    },
    {
     "name": "stdout",
     "output_type": "stream",
     "text": [
      "[ Valid | 033/050 ] loss = 0.35950, acc = 0.89609\n"
     ]
    },
    {
     "name": "stderr",
     "output_type": "stream",
     "text": [
      "100%|████████████████████████████████████████████████████████████████████████████████| 115/115 [01:08<00:00,  1.68it/s]\n",
      "  3%|██▊                                                                                | 1/29 [00:00<00:05,  5.31it/s]"
     ]
    },
    {
     "name": "stdout",
     "output_type": "stream",
     "text": [
      "[ Train | 034/050 ] loss = 0.11072, acc = 0.96727\n"
     ]
    },
    {
     "name": "stderr",
     "output_type": "stream",
     "text": [
      "100%|██████████████████████████████████████████████████████████████████████████████████| 29/29 [00:05<00:00,  5.29it/s]\n",
      "  0%|                                                                                          | 0/115 [00:00<?, ?it/s]"
     ]
    },
    {
     "name": "stdout",
     "output_type": "stream",
     "text": [
      "[ Valid | 034/050 ] loss = 0.29333, acc = 0.91901\n"
     ]
    },
    {
     "name": "stderr",
     "output_type": "stream",
     "text": [
      "100%|████████████████████████████████████████████████████████████████████████████████| 115/115 [01:08<00:00,  1.69it/s]\n",
      "  3%|██▊                                                                                | 1/29 [00:00<00:05,  5.26it/s]"
     ]
    },
    {
     "name": "stdout",
     "output_type": "stream",
     "text": [
      "[ Train | 035/050 ] loss = 0.09521, acc = 0.97137\n"
     ]
    },
    {
     "name": "stderr",
     "output_type": "stream",
     "text": [
      "100%|██████████████████████████████████████████████████████████████████████████████████| 29/29 [00:05<00:00,  5.23it/s]\n",
      "  0%|                                                                                          | 0/115 [00:00<?, ?it/s]"
     ]
    },
    {
     "name": "stdout",
     "output_type": "stream",
     "text": [
      "[ Valid | 035/050 ] loss = 0.30921, acc = 0.91051\n"
     ]
    },
    {
     "name": "stderr",
     "output_type": "stream",
     "text": [
      "100%|████████████████████████████████████████████████████████████████████████████████| 115/115 [01:08<00:00,  1.68it/s]\n",
      "  3%|██▊                                                                                | 1/29 [00:00<00:05,  5.33it/s]"
     ]
    },
    {
     "name": "stdout",
     "output_type": "stream",
     "text": [
      "[ Train | 036/050 ] loss = 0.11846, acc = 0.96308\n"
     ]
    },
    {
     "name": "stderr",
     "output_type": "stream",
     "text": [
      "100%|██████████████████████████████████████████████████████████████████████████████████| 29/29 [00:05<00:00,  5.29it/s]\n",
      "  0%|                                                                                          | 0/115 [00:00<?, ?it/s]"
     ]
    },
    {
     "name": "stdout",
     "output_type": "stream",
     "text": [
      "[ Valid | 036/050 ] loss = 0.30632, acc = 0.91196\n"
     ]
    },
    {
     "name": "stderr",
     "output_type": "stream",
     "text": [
      "100%|████████████████████████████████████████████████████████████████████████████████| 115/115 [01:08<00:00,  1.69it/s]\n",
      "  3%|██▊                                                                                | 1/29 [00:00<00:05,  5.25it/s]"
     ]
    },
    {
     "name": "stdout",
     "output_type": "stream",
     "text": [
      "[ Train | 037/050 ] loss = 0.11661, acc = 0.96648\n"
     ]
    },
    {
     "name": "stderr",
     "output_type": "stream",
     "text": [
      "100%|██████████████████████████████████████████████████████████████████████████████████| 29/29 [00:05<00:00,  5.30it/s]\n",
      "  0%|                                                                                          | 0/115 [00:00<?, ?it/s]"
     ]
    },
    {
     "name": "stdout",
     "output_type": "stream",
     "text": [
      "[ Valid | 037/050 ] loss = 0.28097, acc = 0.91737\n"
     ]
    },
    {
     "name": "stderr",
     "output_type": "stream",
     "text": [
      "100%|████████████████████████████████████████████████████████████████████████████████| 115/115 [01:08<00:00,  1.69it/s]\n",
      "  3%|██▊                                                                                | 1/29 [00:00<00:05,  5.36it/s]"
     ]
    },
    {
     "name": "stdout",
     "output_type": "stream",
     "text": [
      "[ Train | 038/050 ] loss = 0.10494, acc = 0.96899\n"
     ]
    },
    {
     "name": "stderr",
     "output_type": "stream",
     "text": [
      "100%|██████████████████████████████████████████████████████████████████████████████████| 29/29 [00:05<00:00,  5.11it/s]\n",
      "  0%|                                                                                          | 0/115 [00:00<?, ?it/s]"
     ]
    },
    {
     "name": "stdout",
     "output_type": "stream",
     "text": [
      "[ Valid | 038/050 ] loss = 0.23956, acc = 0.93285\n",
      "saving model with acc 0.933\n"
     ]
    },
    {
     "name": "stderr",
     "output_type": "stream",
     "text": [
      "100%|████████████████████████████████████████████████████████████████████████████████| 115/115 [01:08<00:00,  1.68it/s]\n",
      "  3%|██▊                                                                                | 1/29 [00:00<00:05,  5.29it/s]"
     ]
    },
    {
     "name": "stdout",
     "output_type": "stream",
     "text": [
      "[ Train | 039/050 ] loss = 0.10765, acc = 0.96724\n"
     ]
    },
    {
     "name": "stderr",
     "output_type": "stream",
     "text": [
      "100%|██████████████████████████████████████████████████████████████████████████████████| 29/29 [00:05<00:00,  5.32it/s]\n",
      "  0%|                                                                                          | 0/115 [00:00<?, ?it/s]"
     ]
    },
    {
     "name": "stdout",
     "output_type": "stream",
     "text": [
      "[ Valid | 039/050 ] loss = 0.40778, acc = 0.88840\n"
     ]
    },
    {
     "name": "stderr",
     "output_type": "stream",
     "text": [
      "100%|████████████████████████████████████████████████████████████████████████████████| 115/115 [01:08<00:00,  1.68it/s]\n",
      "  3%|██▊                                                                                | 1/29 [00:00<00:05,  5.29it/s]"
     ]
    },
    {
     "name": "stdout",
     "output_type": "stream",
     "text": [
      "[ Train | 040/050 ] loss = 0.11018, acc = 0.96802\n"
     ]
    },
    {
     "name": "stderr",
     "output_type": "stream",
     "text": [
      "100%|██████████████████████████████████████████████████████████████████████████████████| 29/29 [00:05<00:00,  5.20it/s]\n",
      "  0%|                                                                                          | 0/115 [00:00<?, ?it/s]"
     ]
    },
    {
     "name": "stdout",
     "output_type": "stream",
     "text": [
      "[ Valid | 040/050 ] loss = 0.36894, acc = 0.89325\n"
     ]
    },
    {
     "name": "stderr",
     "output_type": "stream",
     "text": [
      "100%|████████████████████████████████████████████████████████████████████████████████| 115/115 [01:08<00:00,  1.68it/s]\n",
      "  3%|██▊                                                                                | 1/29 [00:00<00:05,  4.97it/s]"
     ]
    },
    {
     "name": "stdout",
     "output_type": "stream",
     "text": [
      "[ Train | 041/050 ] loss = 0.11023, acc = 0.96766\n"
     ]
    },
    {
     "name": "stderr",
     "output_type": "stream",
     "text": [
      "100%|██████████████████████████████████████████████████████████████████████████████████| 29/29 [00:05<00:00,  5.20it/s]\n",
      "  0%|                                                                                          | 0/115 [00:00<?, ?it/s]"
     ]
    },
    {
     "name": "stdout",
     "output_type": "stream",
     "text": [
      "[ Valid | 041/050 ] loss = 0.24585, acc = 0.92839\n"
     ]
    },
    {
     "name": "stderr",
     "output_type": "stream",
     "text": [
      "100%|████████████████████████████████████████████████████████████████████████████████| 115/115 [01:08<00:00,  1.67it/s]\n",
      "  3%|██▊                                                                                | 1/29 [00:00<00:05,  5.22it/s]"
     ]
    },
    {
     "name": "stdout",
     "output_type": "stream",
     "text": [
      "[ Train | 042/050 ] loss = 0.09351, acc = 0.97243\n"
     ]
    },
    {
     "name": "stderr",
     "output_type": "stream",
     "text": [
      "100%|██████████████████████████████████████████████████████████████████████████████████| 29/29 [00:05<00:00,  5.30it/s]\n",
      "  0%|                                                                                          | 0/115 [00:00<?, ?it/s]"
     ]
    },
    {
     "name": "stdout",
     "output_type": "stream",
     "text": [
      "[ Valid | 042/050 ] loss = 0.28269, acc = 0.91725\n"
     ]
    },
    {
     "name": "stderr",
     "output_type": "stream",
     "text": [
      "100%|████████████████████████████████████████████████████████████████████████████████| 115/115 [01:08<00:00,  1.69it/s]\n",
      "  3%|██▊                                                                                | 1/29 [00:00<00:05,  5.36it/s]"
     ]
    },
    {
     "name": "stdout",
     "output_type": "stream",
     "text": [
      "[ Train | 043/050 ] loss = 0.09304, acc = 0.97226\n"
     ]
    },
    {
     "name": "stderr",
     "output_type": "stream",
     "text": [
      "100%|██████████████████████████████████████████████████████████████████████████████████| 29/29 [00:05<00:00,  5.32it/s]\n",
      "  0%|                                                                                          | 0/115 [00:00<?, ?it/s]"
     ]
    },
    {
     "name": "stdout",
     "output_type": "stream",
     "text": [
      "[ Valid | 043/050 ] loss = 0.39183, acc = 0.89109\n"
     ]
    },
    {
     "name": "stderr",
     "output_type": "stream",
     "text": [
      "100%|████████████████████████████████████████████████████████████████████████████████| 115/115 [01:08<00:00,  1.69it/s]\n",
      "  0%|                                                                                           | 0/29 [00:00<?, ?it/s]"
     ]
    },
    {
     "name": "stdout",
     "output_type": "stream",
     "text": [
      "[ Train | 044/050 ] loss = 0.09395, acc = 0.97118\n"
     ]
    },
    {
     "name": "stderr",
     "output_type": "stream",
     "text": [
      "100%|██████████████████████████████████████████████████████████████████████████████████| 29/29 [00:05<00:00,  5.32it/s]\n",
      "  0%|                                                                                          | 0/115 [00:00<?, ?it/s]"
     ]
    },
    {
     "name": "stdout",
     "output_type": "stream",
     "text": [
      "[ Valid | 044/050 ] loss = 0.26468, acc = 0.92197\n"
     ]
    },
    {
     "name": "stderr",
     "output_type": "stream",
     "text": [
      "100%|████████████████████████████████████████████████████████████████████████████████| 115/115 [01:07<00:00,  1.69it/s]\n",
      "  3%|██▊                                                                                | 1/29 [00:00<00:05,  5.31it/s]"
     ]
    },
    {
     "name": "stdout",
     "output_type": "stream",
     "text": [
      "[ Train | 045/050 ] loss = 0.10680, acc = 0.97049\n"
     ]
    },
    {
     "name": "stderr",
     "output_type": "stream",
     "text": [
      "100%|██████████████████████████████████████████████████████████████████████████████████| 29/29 [00:05<00:00,  5.28it/s]\n",
      "  0%|                                                                                          | 0/115 [00:00<?, ?it/s]"
     ]
    },
    {
     "name": "stdout",
     "output_type": "stream",
     "text": [
      "[ Valid | 045/050 ] loss = 0.29058, acc = 0.91666\n"
     ]
    },
    {
     "name": "stderr",
     "output_type": "stream",
     "text": [
      "100%|████████████████████████████████████████████████████████████████████████████████| 115/115 [01:08<00:00,  1.69it/s]\n",
      "  3%|██▊                                                                                | 1/29 [00:00<00:05,  5.31it/s]"
     ]
    },
    {
     "name": "stdout",
     "output_type": "stream",
     "text": [
      "[ Train | 046/050 ] loss = 0.10079, acc = 0.97060\n"
     ]
    },
    {
     "name": "stderr",
     "output_type": "stream",
     "text": [
      "100%|██████████████████████████████████████████████████████████████████████████████████| 29/29 [00:05<00:00,  5.31it/s]\n",
      "  0%|                                                                                          | 0/115 [00:00<?, ?it/s]"
     ]
    },
    {
     "name": "stdout",
     "output_type": "stream",
     "text": [
      "[ Valid | 046/050 ] loss = 0.25415, acc = 0.92543\n"
     ]
    },
    {
     "name": "stderr",
     "output_type": "stream",
     "text": [
      "100%|████████████████████████████████████████████████████████████████████████████████| 115/115 [01:08<00:00,  1.69it/s]\n",
      "  3%|██▊                                                                                | 1/29 [00:00<00:05,  5.28it/s]"
     ]
    },
    {
     "name": "stdout",
     "output_type": "stream",
     "text": [
      "[ Train | 047/050 ] loss = 0.10169, acc = 0.96982\n"
     ]
    },
    {
     "name": "stderr",
     "output_type": "stream",
     "text": [
      "100%|██████████████████████████████████████████████████████████████████████████████████| 29/29 [00:05<00:00,  5.23it/s]\n",
      "  0%|                                                                                          | 0/115 [00:00<?, ?it/s]"
     ]
    },
    {
     "name": "stdout",
     "output_type": "stream",
     "text": [
      "[ Valid | 047/050 ] loss = 0.37640, acc = 0.89530\n"
     ]
    },
    {
     "name": "stderr",
     "output_type": "stream",
     "text": [
      "100%|████████████████████████████████████████████████████████████████████████████████| 115/115 [01:08<00:00,  1.69it/s]\n",
      "  3%|██▊                                                                                | 1/29 [00:00<00:05,  4.99it/s]"
     ]
    },
    {
     "name": "stdout",
     "output_type": "stream",
     "text": [
      "[ Train | 048/050 ] loss = 0.11490, acc = 0.96835\n"
     ]
    },
    {
     "name": "stderr",
     "output_type": "stream",
     "text": [
      "100%|██████████████████████████████████████████████████████████████████████████████████| 29/29 [00:05<00:00,  5.30it/s]\n",
      "  0%|                                                                                          | 0/115 [00:00<?, ?it/s]"
     ]
    },
    {
     "name": "stdout",
     "output_type": "stream",
     "text": [
      "[ Valid | 048/050 ] loss = 0.29692, acc = 0.91742\n"
     ]
    },
    {
     "name": "stderr",
     "output_type": "stream",
     "text": [
      "100%|████████████████████████████████████████████████████████████████████████████████| 115/115 [01:08<00:00,  1.69it/s]\n",
      "  3%|██▊                                                                                | 1/29 [00:00<00:05,  5.36it/s]"
     ]
    },
    {
     "name": "stdout",
     "output_type": "stream",
     "text": [
      "[ Train | 049/050 ] loss = 0.09667, acc = 0.97111\n"
     ]
    },
    {
     "name": "stderr",
     "output_type": "stream",
     "text": [
      "100%|██████████████████████████████████████████████████████████████████████████████████| 29/29 [00:05<00:00,  5.30it/s]\n",
      "  0%|                                                                                          | 0/115 [00:00<?, ?it/s]"
     ]
    },
    {
     "name": "stdout",
     "output_type": "stream",
     "text": [
      "[ Valid | 049/050 ] loss = 0.31254, acc = 0.90916\n"
     ]
    },
    {
     "name": "stderr",
     "output_type": "stream",
     "text": [
      "100%|████████████████████████████████████████████████████████████████████████████████| 115/115 [01:07<00:00,  1.69it/s]\n",
      "  3%|██▊                                                                                | 1/29 [00:00<00:05,  5.29it/s]"
     ]
    },
    {
     "name": "stdout",
     "output_type": "stream",
     "text": [
      "[ Train | 050/050 ] loss = 0.09172, acc = 0.97362\n"
     ]
    },
    {
     "name": "stderr",
     "output_type": "stream",
     "text": [
      "100%|██████████████████████████████████████████████████████████████████████████████████| 29/29 [00:05<00:00,  5.27it/s]"
     ]
    },
    {
     "name": "stdout",
     "output_type": "stream",
     "text": [
      "[ Valid | 050/050 ] loss = 0.24073, acc = 0.93123\n",
      "The highest validation accuracy is: 0.9328467845916748\n"
     ]
    },
    {
     "name": "stderr",
     "output_type": "stream",
     "text": [
      "\n"
     ]
    }
   ],
   "source": [
    "model = network(176)\n",
    "model = model.to(device)\n",
    "model.device = device\n",
    "criterion = nn.CrossEntropyLoss()\n",
    "optimizer = torch.optim.Adam(model.parameters(), lr=learning_rate, weight_decay=weight_decay)\n",
    "\n",
    "best_acc = 0.0\n",
    "for epoch in range(num_epochs):\n",
    "    # start training\n",
    "    model.train()\n",
    "    train_loss, train_acc = [], []\n",
    "    for batch in tqdm(train_loader):\n",
    "        images, labels = batch\n",
    "        images, labels = images.to(device), labels.to(device)\n",
    "        \n",
    "        # prediction\n",
    "        output = model(images)\n",
    "        loss = criterion(output, labels)\n",
    "        \n",
    "        # backward propagation\n",
    "        optimizer.zero_grad()\n",
    "        loss.backward()\n",
    "        optimizer.step()\n",
    "        \n",
    "        acc = (output.argmax(dim=-1) == labels).float().mean()\n",
    "        \n",
    "        train_loss.append(loss.item())\n",
    "        train_acc.append(acc)\n",
    "        \n",
    "    mean_train_loss = sum(train_loss) / len(train_loss)\n",
    "    mean_train_acc = sum(train_acc) / len(train_acc)\n",
    "    \n",
    "    print(f\"[ Train | {epoch + 1:03d}/{num_epochs:03d} ] loss = {mean_train_loss:.5f}, acc = {mean_train_acc:.5f}\")\n",
    "    \n",
    "    # start validation\n",
    "    model.eval()\n",
    "    valid_acc, valid_loss = [], []\n",
    "    for batch in tqdm(val_loader):\n",
    "        images, labels = batch\n",
    "        images, labels = images.to(device), labels.to(device)\n",
    "        with torch.no_grad():\n",
    "            output = model(images)\n",
    "            loss = criterion(output, labels)\n",
    "            acc = (output.argmax(dim=-1) == labels).float().mean()\n",
    "            valid_loss.append(loss.item())\n",
    "            valid_acc.append(acc)\n",
    "    \n",
    "    mean_valid_loss = sum(valid_loss) / len(valid_loss)\n",
    "    mean_valid_acc = sum(valid_acc) / len(valid_acc)\n",
    "    \n",
    "    print(f\"[ Valid | {epoch + 1:03d}/{num_epochs:03d} ] loss = {mean_valid_loss:.5f}, acc = {mean_valid_acc:.5f}\")\n",
    "    \n",
    "    if mean_valid_acc > best_acc:\n",
    "        best_acc = mean_valid_acc\n",
    "        torch.save(model.state_dict(), model_path)\n",
    "        print('saving model with acc {:.3f}'.format(best_acc))\n",
    "\n",
    "print(\"The highest validation accuracy is: {:.3f}\".format(best_acc.item()))"
   ]
  },
  {
   "cell_type": "code",
   "execution_count": 13,
   "id": "71f89a70",
   "metadata": {},
   "outputs": [],
   "source": [
    "SaveFileName = './submission1.csv'"
   ]
  },
  {
   "cell_type": "code",
   "execution_count": 18,
   "id": "61d28716",
   "metadata": {},
   "outputs": [
    {
     "name": "stderr",
     "output_type": "stream",
     "text": [
      "100%|██████████████████████████████████████████████████████████████████████████████████| 69/69 [00:13<00:00,  5.24it/s]"
     ]
    },
    {
     "name": "stdout",
     "output_type": "stream",
     "text": [
      "Test Done!\n"
     ]
    },
    {
     "name": "stderr",
     "output_type": "stream",
     "text": [
      "\n"
     ]
    }
   ],
   "source": [
    "# testing\n",
    "model = network(176)\n",
    "model = model.to(device)\n",
    "model.load_state_dict(torch.load(model_path))\n",
    "model.eval()\n",
    "predictions = []\n",
    "for batch in tqdm(test_loader):\n",
    "    images = batch\n",
    "    with torch.no_grad():\n",
    "        output = model(images.to(device))\n",
    "    pred_labels = output.argmax(dim=-1)\n",
    "    predictions.extend(pred_labels.cpu().numpy().tolist())\n",
    "\n",
    "preds = []\n",
    "for i in predictions:\n",
    "    preds.append(num_to_class[i])\n",
    "\n",
    "test_data = pd.read_csv(test_path)\n",
    "test_data['label'] = pd.Series(preds)\n",
    "submission = pd.concat([test_data['image'], test_data['label']], axis=1)\n",
    "submission.to_csv(SaveFileName, index=False)\n",
    "print('Test Done!')"
   ]
  },
  {
   "cell_type": "code",
   "execution_count": null,
   "id": "52499ed1",
   "metadata": {},
   "outputs": [],
   "source": []
  }
 ],
 "metadata": {
  "kernelspec": {
   "display_name": "Python 3 (ipykernel)",
   "language": "python",
   "name": "python3"
  },
  "language_info": {
   "codemirror_mode": {
    "name": "ipython",
    "version": 3
   },
   "file_extension": ".py",
   "mimetype": "text/x-python",
   "name": "python",
   "nbconvert_exporter": "python",
   "pygments_lexer": "ipython3",
   "version": "3.8.5"
  }
 },
 "nbformat": 4,
 "nbformat_minor": 5
}
